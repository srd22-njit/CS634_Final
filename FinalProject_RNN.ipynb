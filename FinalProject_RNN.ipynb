{
 "cells": [
  {
   "cell_type": "markdown",
   "metadata": {
    "id": "tS7mcdtrgWy1"
   },
   "source": [
    "# CS 634 Final Term Project Implentation\n",
    "\n",
    "\n",
    "\n",
    "#### Option - II: Deep Learning\n",
    "#### Name: Shaswat Dharaiya\n",
    "#### Email: srd22@njit.edu\n",
    "#### Github: https://github.com/srd22-njit/CS634_Final"
   ]
  },
  {
   "cell_type": "markdown",
   "metadata": {
    "id": "xb6cigRTgj0w"
   },
   "source": [
    "## Import the important libraries"
   ]
  },
  {
   "cell_type": "code",
   "execution_count": 15,
   "metadata": {
    "id": "wHRBUhpViBXg"
   },
   "outputs": [],
   "source": [
    "# For the Nueral Network\n",
    "import torch\n",
    "import torchvision\n",
    "import torch.nn as nn\n",
    "import torch.optim as optim\n",
    "import torch.nn.functional as F\n",
    "from torch.utils.data import DataLoader, ConcatDataset\n",
    "import torchvision.datasets as datasets\n",
    "import torchvision.transforms as transforms\n",
    "\n",
    "# For the operations\n",
    "import pickle\n",
    "import numpy as np\n",
    "import pandas as pd\n",
    "import matplotlib.pyplot as plt\n",
    "from sklearn.model_selection import KFold"
   ]
  },
  {
   "cell_type": "markdown",
   "metadata": {
    "id": "5boHJYo8gvd8"
   },
   "source": [
    "## Enable GPU\n",
    "Enable GPU for faster training"
   ]
  },
  {
   "cell_type": "code",
   "execution_count": null,
   "metadata": {
    "colab": {
     "base_uri": "https://localhost:8080/"
    },
    "id": "3sVEqsdwiFjs",
    "outputId": "66576d9f-a9fb-4ab2-9b18-6b79210d88e2"
   },
   "outputs": [
    {
     "data": {
      "text/plain": [
       "device(type='cuda')"
      ]
     },
     "execution_count": 2,
     "metadata": {},
     "output_type": "execute_result"
    }
   ],
   "source": [
    "device = torch.device('cuda' if torch.cuda.is_available() else 'cpu')\n",
    "device"
   ]
  },
  {
   "cell_type": "markdown",
   "metadata": {
    "id": "kdcKU9e9g3RN"
   },
   "source": [
    "## Hyperparameters\n",
    "Define our hyperparameters for the NN"
   ]
  },
  {
   "cell_type": "code",
   "execution_count": null,
   "metadata": {
    "id": "Ep29_bbWiGn7"
   },
   "outputs": [],
   "source": [
    "input_size = 28\n",
    "sequence_length = 28\n",
    "num_layers = 2\n",
    "hidden_size = 256\n",
    "num_classes = 2\n",
    "learning_rate = 0.001\n",
    "batch_size = 64\n",
    "num_epochs = 1\n",
    "n_folds = 10\n"
   ]
  },
  {
   "cell_type": "markdown",
   "metadata": {
    "id": "v97pPp43g-As"
   },
   "source": [
    "## Load Dataset\n",
    "\n",
    "* We first laod the inbuild MNIST dataset, and we devide the data into train & test by specifying `train=True` & `train=False`.\n",
    "* We then extract images from both train & test data with labels as 0 or 1 (binary classification.)"
   ]
  },
  {
   "cell_type": "code",
   "execution_count": 16,
   "metadata": {
    "id": "8eymF_QOiO-t"
   },
   "outputs": [],
   "source": [
    "train_dataset = datasets.MNIST(root='./dataset/', train=True, transform=transforms.ToTensor(), download =True)\n",
    "test_dataset = datasets.MNIST(root='./dataset/', train=False, transform=transforms.ToTensor(), download =True)\n",
    "\n",
    "idx = (train_dataset.targets==0) | (train_dataset.targets==1)\n",
    "train_dataset.targets = train_dataset.targets[idx]\n",
    "train_dataset.data = train_dataset.data[idx]\n",
    "\n",
    "idx = (test_dataset.targets==0) | (test_dataset.targets==1)\n",
    "test_dataset.targets = test_dataset.targets[idx]\n",
    "test_dataset.data = test_dataset.data[idx]\n"
   ]
  },
  {
   "cell_type": "markdown",
   "metadata": {
    "id": "lnfQGs8s16qw"
   },
   "source": [
    "## Dataset\n",
    "Let's look into what the dataset looks like"
   ]
  },
  {
   "cell_type": "code",
   "execution_count": 32,
   "metadata": {
    "colab": {
     "base_uri": "https://localhost:8080/",
     "height": 1000
    },
    "id": "qbG4eF4q2ATH",
    "outputId": "82be64c9-a126-4baf-855e-65cdc17d327c",
    "scrolled": false
   },
   "outputs": [
    {
     "name": "stdout",
     "output_type": "stream",
     "text": [
      "tensor([[0.0000, 0.0000, 0.0000, 0.0000, 0.0000, 0.0000, 0.0000, 0.0000, 0.0000,\n",
      "         0.0000, 0.0000, 0.0000, 0.0000, 0.0000, 0.0000, 0.0000, 0.0000, 0.0000,\n",
      "         0.0000, 0.0000, 0.0000, 0.0000, 0.0000, 0.0000, 0.0000, 0.0000, 0.0000,\n",
      "         0.0000],\n",
      "        [0.0000, 0.0000, 0.0000, 0.0000, 0.0000, 0.0000, 0.0000, 0.0000, 0.0000,\n",
      "         0.0000, 0.0000, 0.0000, 0.0000, 0.0000, 0.0000, 0.0000, 0.0000, 0.0000,\n",
      "         0.0000, 0.0000, 0.0000, 0.0000, 0.0000, 0.0000, 0.0000, 0.0000, 0.0000,\n",
      "         0.0000],\n",
      "        [0.0000, 0.0000, 0.0000, 0.0000, 0.0000, 0.0000, 0.0000, 0.0000, 0.0000,\n",
      "         0.0000, 0.0000, 0.0000, 0.0000, 0.0000, 0.0000, 0.0000, 0.0000, 0.0000,\n",
      "         0.0000, 0.0000, 0.0000, 0.0000, 0.0000, 0.0000, 0.0000, 0.0000, 0.0000,\n",
      "         0.0000],\n",
      "        [0.0000, 0.0000, 0.0000, 0.0000, 0.0000, 0.0000, 0.0000, 0.0000, 0.0000,\n",
      "         0.0000, 0.0000, 0.0000, 0.0000, 0.0000, 0.0000, 0.0000, 0.0000, 0.0000,\n",
      "         0.0000, 0.0000, 0.0000, 0.0000, 0.0000, 0.0000, 0.0000, 0.0000, 0.0000,\n",
      "         0.0000],\n",
      "        [0.0000, 0.0000, 0.0000, 0.0000, 0.0000, 0.0000, 0.0000, 0.0000, 0.0000,\n",
      "         0.0000, 0.0000, 0.0000, 0.0431, 0.5882, 0.9922, 0.7922, 0.1216, 0.0000,\n",
      "         0.0000, 0.0000, 0.0000, 0.0000, 0.0000, 0.0000, 0.0000, 0.0000, 0.0000,\n",
      "         0.0000],\n",
      "        [0.0000, 0.0000, 0.0000, 0.0000, 0.0000, 0.0000, 0.0000, 0.0000, 0.0000,\n",
      "         0.0000, 0.0000, 0.0000, 0.1451, 0.9843, 0.9843, 0.9922, 0.4196, 0.0000,\n",
      "         0.0000, 0.0000, 0.0000, 0.0000, 0.0000, 0.0000, 0.0000, 0.0000, 0.0000,\n",
      "         0.0000],\n",
      "        [0.0000, 0.0000, 0.0000, 0.0000, 0.0000, 0.0000, 0.0000, 0.0000, 0.0000,\n",
      "         0.0000, 0.0000, 0.0824, 0.7725, 0.9843, 0.9843, 0.9922, 0.4196, 0.0000,\n",
      "         0.0000, 0.0000, 0.0000, 0.0000, 0.0000, 0.0000, 0.0000, 0.0000, 0.0000,\n",
      "         0.0000],\n",
      "        [0.0000, 0.0000, 0.0000, 0.0000, 0.0000, 0.0000, 0.0000, 0.0000, 0.0000,\n",
      "         0.0000, 0.4314, 0.7451, 0.9843, 0.9843, 0.9843, 0.9922, 0.6627, 0.4275,\n",
      "         0.2431, 0.0000, 0.0000, 0.0000, 0.0000, 0.0000, 0.0000, 0.0000, 0.0000,\n",
      "         0.0000],\n",
      "        [0.0000, 0.0000, 0.0000, 0.0000, 0.0000, 0.0000, 0.0000, 0.0000, 0.0000,\n",
      "         0.0000, 0.9922, 0.9843, 0.9843, 0.9843, 0.9843, 0.9922, 0.9843, 0.9843,\n",
      "         0.8627, 0.2000, 0.0000, 0.0000, 0.0000, 0.0000, 0.0000, 0.0000, 0.0000,\n",
      "         0.0000],\n",
      "        [0.0000, 0.0000, 0.0000, 0.0000, 0.0000, 0.0000, 0.0000, 0.0000, 0.0000,\n",
      "         0.7137, 1.0000, 0.9922, 0.9922, 0.9922, 0.9922, 0.9176, 0.8706, 0.9922,\n",
      "         0.9922, 0.9922, 0.0000, 0.0000, 0.0000, 0.0000, 0.0000, 0.0000, 0.0000,\n",
      "         0.0000],\n",
      "        [0.0000, 0.0000, 0.0000, 0.0000, 0.0000, 0.0000, 0.0000, 0.0000, 0.2471,\n",
      "         0.8667, 0.9922, 0.9843, 0.9843, 0.9843, 0.5765, 0.3020, 0.2431, 0.5020,\n",
      "         0.9843, 0.9843, 0.4118, 0.0000, 0.0000, 0.0000, 0.0000, 0.0000, 0.0000,\n",
      "         0.0000],\n",
      "        [0.0000, 0.0000, 0.0000, 0.0000, 0.0000, 0.0000, 0.0000, 0.1255, 0.9059,\n",
      "         0.9843, 0.9922, 0.9843, 0.8627, 0.5373, 0.0392, 0.0000, 0.0000, 0.1216,\n",
      "         0.9020, 0.9843, 0.9529, 0.4431, 0.0196, 0.0000, 0.0000, 0.0000, 0.0000,\n",
      "         0.0000],\n",
      "        [0.0000, 0.0000, 0.0000, 0.0000, 0.0000, 0.0000, 0.0000, 0.1451, 0.9843,\n",
      "         0.9843, 0.9922, 0.7373, 0.0784, 0.0000, 0.0000, 0.0000, 0.0000, 0.0000,\n",
      "         0.4275, 0.9843, 0.9922, 0.9843, 0.1373, 0.0000, 0.0000, 0.0000, 0.0000,\n",
      "         0.0000],\n",
      "        [0.0000, 0.0000, 0.0000, 0.0000, 0.0000, 0.0000, 0.0000, 0.1451, 0.9843,\n",
      "         0.9843, 0.7882, 0.1176, 0.0000, 0.0000, 0.0000, 0.0000, 0.0000, 0.0000,\n",
      "         0.1216, 0.7843, 0.9922, 0.9843, 0.1373, 0.0000, 0.0000, 0.0000, 0.0000,\n",
      "         0.0000],\n",
      "        [0.0000, 0.0000, 0.0000, 0.0000, 0.0000, 0.0000, 0.0000, 0.1451, 0.9922,\n",
      "         0.9922, 0.0000, 0.0000, 0.0000, 0.0000, 0.0000, 0.0000, 0.0000, 0.0000,\n",
      "         0.1255, 0.7922, 1.0000, 0.9922, 0.6431, 0.0000, 0.0000, 0.0000, 0.0000,\n",
      "         0.0000],\n",
      "        [0.0000, 0.0000, 0.0000, 0.0000, 0.0000, 0.0000, 0.0000, 0.5490, 0.9843,\n",
      "         0.9843, 0.0000, 0.0000, 0.0000, 0.0000, 0.0000, 0.0000, 0.0000, 0.0000,\n",
      "         0.4275, 0.9843, 0.9922, 0.9843, 0.1373, 0.0000, 0.0000, 0.0000, 0.0000,\n",
      "         0.0000],\n",
      "        [0.0000, 0.0000, 0.0000, 0.0000, 0.0000, 0.0000, 0.0000, 0.8510, 0.9843,\n",
      "         0.9843, 0.0000, 0.0000, 0.0000, 0.0000, 0.0000, 0.0000, 0.0824, 0.2471,\n",
      "         0.9059, 0.9843, 0.9922, 0.9020, 0.1176, 0.0000, 0.0000, 0.0000, 0.0000,\n",
      "         0.0000],\n",
      "        [0.0000, 0.0000, 0.0000, 0.0000, 0.0000, 0.0000, 0.0000, 0.8510, 0.9843,\n",
      "         0.9843, 0.0000, 0.0000, 0.0000, 0.0000, 0.0000, 0.0000, 0.5647, 0.9843,\n",
      "         0.9843, 0.9843, 0.8667, 0.2392, 0.0000, 0.0000, 0.0000, 0.0000, 0.0000,\n",
      "         0.0000],\n",
      "        [0.0000, 0.0000, 0.0000, 0.0000, 0.0000, 0.0000, 0.0000, 0.8510, 0.9843,\n",
      "         0.9843, 0.0000, 0.0000, 0.0000, 0.0000, 0.0000, 0.7137, 0.8667, 0.9843,\n",
      "         0.9843, 0.9843, 0.7059, 0.0000, 0.0000, 0.0000, 0.0000, 0.0000, 0.0000,\n",
      "         0.0000],\n",
      "        [0.0000, 0.0000, 0.0000, 0.0000, 0.0000, 0.0000, 0.0000, 0.8549, 0.9922,\n",
      "         0.9922, 0.2863, 0.2863, 0.8941, 0.9922, 0.9922, 1.0000, 0.9922, 0.9922,\n",
      "         0.9922, 0.9922, 0.0000, 0.0000, 0.0000, 0.0000, 0.0000, 0.0000, 0.0000,\n",
      "         0.0000],\n",
      "        [0.0000, 0.0000, 0.0000, 0.0000, 0.0000, 0.0000, 0.0000, 0.4431, 0.9843,\n",
      "         0.9843, 0.9922, 0.9843, 0.9843, 0.9843, 0.9843, 0.9922, 0.9843, 0.9843,\n",
      "         0.9843, 0.5765, 0.0000, 0.0000, 0.0000, 0.0000, 0.0000, 0.0000, 0.0000,\n",
      "         0.0000],\n",
      "        [0.0000, 0.0000, 0.0000, 0.0000, 0.0000, 0.0000, 0.0000, 0.1216, 0.9020,\n",
      "         0.9843, 0.9922, 0.9843, 0.9843, 0.9843, 0.9843, 0.9922, 0.9020, 0.7412,\n",
      "         0.1373, 0.0392, 0.0000, 0.0000, 0.0000, 0.0000, 0.0000, 0.0000, 0.0000,\n",
      "         0.0000],\n",
      "        [0.0000, 0.0000, 0.0000, 0.0000, 0.0000, 0.0000, 0.0000, 0.0000, 0.2431,\n",
      "         0.5569, 0.9922, 0.9843, 0.9843, 0.9843, 0.9843, 0.9922, 0.4196, 0.0000,\n",
      "         0.0000, 0.0000, 0.0000, 0.0000, 0.0000, 0.0000, 0.0000, 0.0000, 0.0000,\n",
      "         0.0000],\n",
      "        [0.0000, 0.0000, 0.0000, 0.0000, 0.0000, 0.0000, 0.0000, 0.0000, 0.0000,\n",
      "         0.0000, 0.2824, 0.6824, 0.9843, 0.6784, 0.2784, 0.2824, 0.1176, 0.0000,\n",
      "         0.0000, 0.0000, 0.0000, 0.0000, 0.0000, 0.0000, 0.0000, 0.0000, 0.0000,\n",
      "         0.0000],\n",
      "        [0.0000, 0.0000, 0.0000, 0.0000, 0.0000, 0.0000, 0.0000, 0.0000, 0.0000,\n",
      "         0.0000, 0.0000, 0.0000, 0.0000, 0.0000, 0.0000, 0.0000, 0.0000, 0.0000,\n",
      "         0.0000, 0.0000, 0.0000, 0.0000, 0.0000, 0.0000, 0.0000, 0.0000, 0.0000,\n",
      "         0.0000],\n",
      "        [0.0000, 0.0000, 0.0000, 0.0000, 0.0000, 0.0000, 0.0000, 0.0000, 0.0000,\n",
      "         0.0000, 0.0000, 0.0000, 0.0000, 0.0000, 0.0000, 0.0000, 0.0000, 0.0000,\n",
      "         0.0000, 0.0000, 0.0000, 0.0000, 0.0000, 0.0000, 0.0000, 0.0000, 0.0000,\n",
      "         0.0000],\n",
      "        [0.0000, 0.0000, 0.0000, 0.0000, 0.0000, 0.0000, 0.0000, 0.0000, 0.0000,\n",
      "         0.0000, 0.0000, 0.0000, 0.0000, 0.0000, 0.0000, 0.0000, 0.0000, 0.0000,\n",
      "         0.0000, 0.0000, 0.0000, 0.0000, 0.0000, 0.0000, 0.0000, 0.0000, 0.0000,\n",
      "         0.0000],\n",
      "        [0.0000, 0.0000, 0.0000, 0.0000, 0.0000, 0.0000, 0.0000, 0.0000, 0.0000,\n",
      "         0.0000, 0.0000, 0.0000, 0.0000, 0.0000, 0.0000, 0.0000, 0.0000, 0.0000,\n",
      "         0.0000, 0.0000, 0.0000, 0.0000, 0.0000, 0.0000, 0.0000, 0.0000, 0.0000,\n",
      "         0.0000]])\n"
     ]
    },
    {
     "data": {
      "image/png": "[encoded data removed]",
      "text/plain": [
       "<Figure size 432x288 with 1 Axes>"
      ]
     },
     "metadata": {
      "needs_background": "light"
     },
     "output_type": "display_data"
    }
   ],
   "source": [
    "idx = 1\n",
    "plt.title(f\"Label: {test_dataset[idx][1]}\")\n",
    "plt.imshow(test_dataset[idx][0].reshape(28,28), cmap='gray')\n",
    "print(test_dataset[idx][0].reshape(28,28))"
   ]
  },
  {
   "cell_type": "markdown",
   "metadata": {
    "id": "xoaibh0u2Wra"
   },
   "source": [
    "# Concatinate Dataset\n",
    "We concatinate our datasets so as to make a single dataset out of it. We'll devide them again during K-Fold section."
   ]
  },
  {
   "cell_type": "code",
   "execution_count": null,
   "metadata": {
    "id": "Devy_KoM1rM5"
   },
   "outputs": [],
   "source": [
    "dataset = ConcatDataset([train_dataset, test_dataset])"
   ]
  },
  {
   "cell_type": "markdown",
   "metadata": {
    "id": "Em_PyI6chFPD"
   },
   "source": [
    "## Define the Nueral Network\n",
    "Use `nn.Module` in order to use Neural Network with PyTorch.<br>\n",
    "The `typeRNN` attribute will tell Neural which kind of Neural Network we want to use. Options:\n",
    "* RNN\n",
    "* GRU\n",
    "* LSMT"
   ]
  },
  {
   "cell_type": "code",
   "execution_count": null,
   "metadata": {
    "id": "rPfuvDAmiMRS"
   },
   "outputs": [],
   "source": [
    "# Create an RNN\n",
    "class RNN(nn.Module):\n",
    "  def __init__(self, input_size, hidden_size, num_layers, num_classes,typeRNN=\"RNN\"):\n",
    "        super(RNN, self).__init__()\n",
    "        self.hidden_size = hidden_size\n",
    "        self.num_layers = num_layers\n",
    "        self.rnn = nn.RNN(input_size, hidden_size, num_layers, batch_first=True)\n",
    "        self.gru = nn.GRU(input_size, hidden_size, num_layers, batch_first=True)\n",
    "        self.lstm = nn.LSTM(\n",
    "            input_size, hidden_size, num_layers, batch_first=True, bidirectional=True\n",
    "        )\n",
    "        self.fc = nn.Linear(hidden_size * 2, num_classes)\n",
    "        self.typeRNN = typeRNN        \n",
    "        print(self.typeRNN)\n",
    "  \n",
    "  def forward(self, x):    \n",
    "    if self.typeRNN == \"BRNN\":\n",
    "      h0 = torch.zeros(self.num_layers * 2, x.size(0), self.hidden_size).to(device)\n",
    "      c0 = torch.zeros(self.num_layers * 2, x.size(0), self.hidden_size).to(device)\n",
    "      out, _ = self.lstm(x, (h0, c0))       \n",
    "      out = self.fc(out[:, -1, :])\n",
    "      return out\n",
    "    \n",
    "    h0 = torch.zeros(self.num_layers, x.size(0), self.hidden_size).to(device)\n",
    "    if self.typeRNN == \"RNN\":\n",
    "      out, _ = self.rnn(x, h0)\n",
    "    \n",
    "    if self.typeRNN == \"GRU\":      \n",
    "      out, _ = self.gru(x, h0)    \n",
    "\n",
    "    out = out.reshape(out.shape[0], -1)\n",
    "    out = self.fc(out)      \n",
    "    return out"
   ]
  },
  {
   "cell_type": "code",
   "execution_count": null,
   "metadata": {
    "colab": {
     "base_uri": "https://localhost:8080/"
    },
    "id": "Y8lLXf5MiPps",
    "outputId": "82ea8720-8c63-4333-961d-8391fb84bade"
   },
   "outputs": [
    {
     "name": "stdout",
     "output_type": "stream",
     "text": [
      "BRNN\n"
     ]
    }
   ],
   "source": [
    "typeRNN = \"BRNN\"\n",
    "model = RNN(input_size, hidden_size, num_layers, num_classes,typeRNN).to(device)"
   ]
  },
  {
   "cell_type": "markdown",
   "metadata": {
    "id": "3f1OoxxQhrpe"
   },
   "source": [
    "## Add Loss & Optimizers\n",
    "We use `CrossEntropyLoss` as our loss function.<br>\n",
    "We use `Adam` as our optimizer."
   ]
  },
  {
   "cell_type": "code",
   "execution_count": null,
   "metadata": {
    "id": "RqIDTbJciReh"
   },
   "outputs": [],
   "source": [
    "criterion = nn.CrossEntropyLoss()\n",
    "optimizer = optim.Adam(model.parameters(), lr=learning_rate)"
   ]
  },
  {
   "cell_type": "markdown",
   "metadata": {
    "id": "6xRMXhd1iBVA"
   },
   "source": [
    "## Train the model.\n",
    "We train the model, calculate the accuracy, and design the confusion matrix for each epoch.\n",
    "\n",
    "* We first devide the dataset back into train & test sets.\n",
    "* Then we convert into DataLoader class and make batches out of it.\n",
    "* We feed the data to our model and then train our model.\n",
    "* We store the predictions along with actual data into `KFOLD_confusion_dict`\n",
    "  * `KFOLD_confusion_dict` will hold all the data. (ie. predictions and actual results from each fold and each epoch)"
   ]
  },
  {
   "cell_type": "code",
   "execution_count": null,
   "metadata": {
    "colab": {
     "base_uri": "https://localhost:8080/"
    },
    "id": "HCAjs-FJiTf2",
    "outputId": "308ae41b-db97-4e40-c967-955519e955ed"
   },
   "outputs": [
    {
     "name": "stdout",
     "output_type": "stream",
     "text": [
      "BRNN\n",
      "--------------------------------\n",
      "FOLD 0\n",
      "--------------------------------\n",
      "Epoch: 0 - Got 13018 / 13302 with accuracy 97.86\n",
      "BRNN\n",
      "--------------------------------\n",
      "FOLD 1\n",
      "--------------------------------\n",
      "Epoch: 0 - Got 12943 / 13302 with accuracy 97.30\n",
      "BRNN\n",
      "--------------------------------\n",
      "FOLD 2\n",
      "--------------------------------\n",
      "Epoch: 0 - Got 13039 / 13302 with accuracy 98.02\n",
      "BRNN\n",
      "--------------------------------\n",
      "FOLD 3\n",
      "--------------------------------\n",
      "Epoch: 0 - Got 12956 / 13302 with accuracy 97.40\n",
      "BRNN\n",
      "--------------------------------\n",
      "FOLD 4\n",
      "--------------------------------\n",
      "Epoch: 0 - Got 12987 / 13302 with accuracy 97.63\n",
      "BRNN\n",
      "--------------------------------\n",
      "FOLD 5\n",
      "--------------------------------\n",
      "Epoch: 0 - Got 12969 / 13302 with accuracy 97.50\n",
      "BRNN\n",
      "--------------------------------\n",
      "FOLD 6\n",
      "--------------------------------\n",
      "Epoch: 0 - Got 13034 / 13302 with accuracy 97.99\n",
      "BRNN\n",
      "--------------------------------\n",
      "FOLD 7\n",
      "--------------------------------\n",
      "Epoch: 0 - Got 13002 / 13302 with accuracy 97.74\n",
      "BRNN\n",
      "--------------------------------\n",
      "FOLD 8\n",
      "--------------------------------\n",
      "Epoch: 0 - Got 13014 / 13302 with accuracy 97.83\n",
      "BRNN\n",
      "--------------------------------\n",
      "FOLD 9\n",
      "--------------------------------\n",
      "Epoch: 0 - Got 13036 / 13302 with accuracy 98.00\n"
     ]
    }
   ],
   "source": [
    "KFOLD_confusion_dict = {}\n",
    "kfold = KFold(n_splits=n_folds, shuffle=True)\n",
    "\n",
    "for fold, (train_ids, test_ids) in enumerate(kfold.split(dataset)):\n",
    "  train_dataset1, test_dataset1, confusion_dict = [], [], {}\n",
    "\n",
    "  for id in train_ids:\n",
    "    train_dataset1.append(dataset[id])\n",
    "  for id in test_ids:\n",
    "    test_dataset1.append(dataset[id])\n",
    "\n",
    "  train_loader = DataLoader(dataset = train_dataset1, batch_size =batch_size, shuffle=False)\n",
    "  test_loader = DataLoader(dataset = test_dataset1, batch_size =batch_size, shuffle=False)\n",
    "\n",
    "  model = RNN(input_size, hidden_size, num_layers, num_classes,typeRNN).to(device)\n",
    "  criterion = nn.CrossEntropyLoss()\n",
    "  optimizer = optim.Adam(model.parameters(), lr=learning_rate)\n",
    "  \n",
    "  print('--------------------------------')\n",
    "  print(f'FOLD {fold}')\n",
    "  print('--------------------------------')\n",
    "  \n",
    "  for epoch in range(num_epochs):\n",
    "    all_preds = []\n",
    "    all_y = []\n",
    "    num_correct = 0\n",
    "    num_samples = 0\n",
    "    for data, targets in train_loader:\n",
    "      # Get data to cuda if possible\n",
    "      data = data.to(device=device).squeeze(1)\n",
    "      targets = targets.to(device=device)\n",
    "\n",
    "      # forward\n",
    "      scores = model(data)\n",
    "\n",
    "      _,predictions = scores.max(1)\n",
    "      all_preds = all_preds + [item.item() for item in predictions]\n",
    "      all_y = all_y + [item.item() for item in targets]\n",
    "\n",
    "      num_correct += (predictions == targets).sum()\n",
    "      num_samples += predictions.size(0)    \n",
    "\n",
    "      loss = criterion(scores, targets)\n",
    "\n",
    "      # backward\n",
    "      optimizer.zero_grad()\n",
    "      loss.backward()\n",
    "\n",
    "      # gradient descent or adam step\n",
    "      optimizer.step()\n",
    "    print(f\"Epoch: {epoch} - Got {num_correct} / {num_samples} with accuracy {float(num_correct)/float(num_samples)*100:.2f}\")\n",
    "    confusion_dict[epoch] = pd.DataFrame(list(zip(all_preds,all_y)), columns=[\"Predicted\",\"Actual\"])\n",
    "  KFOLD_confusion_dict[fold] = confusion_dict"
   ]
  },
  {
   "cell_type": "markdown",
   "metadata": {
    "id": "rig912WnjIwQ"
   },
   "source": [
    "## Store the data"
   ]
  },
  {
   "cell_type": "markdown",
   "metadata": {
    "id": "TSvgxGd2jzmj"
   },
   "source": [
    "Stores/Pickles the data to file"
   ]
  },
  {
   "cell_type": "code",
   "execution_count": null,
   "metadata": {
    "id": "XaQnao1SjIAm"
   },
   "outputs": [],
   "source": [
    "with open('/content/drive/MyDrive/Sem 1/DM/KFOLD_confusion_dict.pickle', 'wb') as handle:\n",
    "    pickle.dump(KFOLD_confusion_dict, handle, protocol=pickle.HIGHEST_PROTOCOL)"
   ]
  },
  {
   "cell_type": "code",
   "execution_count": null,
   "metadata": {
    "id": "82-MUvdljHyC"
   },
   "outputs": [],
   "source": [
    "with open('/content/drive/MyDrive/Sem 1/DM/KFOLD_confusion_dict.pickle', 'rb') as handle:\n",
    "    KFOLD_confusion_dict = pickle.load(handle)"
   ]
  },
  {
   "cell_type": "code",
   "execution_count": null,
   "metadata": {
    "colab": {
     "base_uri": "https://localhost:8080/",
     "height": 424
    },
    "id": "81xQd_eqp4qp",
    "outputId": "4d803546-98ba-46f1-8f41-0dbefce3a517"
   },
   "outputs": [
    {
     "data": {
      "text/html": [
       "<div>\n",
       "<style scoped>\n",
       "    .dataframe tbody tr th:only-of-type {\n",
       "        vertical-align: middle;\n",
       "    }\n",
       "\n",
       "    .dataframe tbody tr th {\n",
       "        vertical-align: top;\n",
       "    }\n",
       "\n",
       "    .dataframe thead th {\n",
       "        text-align: right;\n",
       "    }\n",
       "</style>\n",
       "<table border=\"1\" class=\"dataframe\">\n",
       "  <thead>\n",
       "    <tr style=\"text-align: right;\">\n",
       "      <th></th>\n",
       "      <th>Predicted</th>\n",
       "      <th>Actual</th>\n",
       "    </tr>\n",
       "  </thead>\n",
       "  <tbody>\n",
       "    <tr>\n",
       "      <th>0</th>\n",
       "      <td>0</td>\n",
       "      <td>0</td>\n",
       "    </tr>\n",
       "    <tr>\n",
       "      <th>1</th>\n",
       "      <td>0</td>\n",
       "      <td>1</td>\n",
       "    </tr>\n",
       "    <tr>\n",
       "      <th>2</th>\n",
       "      <td>0</td>\n",
       "      <td>1</td>\n",
       "    </tr>\n",
       "    <tr>\n",
       "      <th>3</th>\n",
       "      <td>0</td>\n",
       "      <td>1</td>\n",
       "    </tr>\n",
       "    <tr>\n",
       "      <th>4</th>\n",
       "      <td>0</td>\n",
       "      <td>1</td>\n",
       "    </tr>\n",
       "    <tr>\n",
       "      <th>...</th>\n",
       "      <td>...</td>\n",
       "      <td>...</td>\n",
       "    </tr>\n",
       "    <tr>\n",
       "      <th>13297</th>\n",
       "      <td>1</td>\n",
       "      <td>1</td>\n",
       "    </tr>\n",
       "    <tr>\n",
       "      <th>13298</th>\n",
       "      <td>0</td>\n",
       "      <td>0</td>\n",
       "    </tr>\n",
       "    <tr>\n",
       "      <th>13299</th>\n",
       "      <td>1</td>\n",
       "      <td>1</td>\n",
       "    </tr>\n",
       "    <tr>\n",
       "      <th>13300</th>\n",
       "      <td>0</td>\n",
       "      <td>0</td>\n",
       "    </tr>\n",
       "    <tr>\n",
       "      <th>13301</th>\n",
       "      <td>1</td>\n",
       "      <td>1</td>\n",
       "    </tr>\n",
       "  </tbody>\n",
       "</table>\n",
       "<p>13302 rows × 2 columns</p>\n",
       "</div>"
      ],
      "text/plain": [
       "       Predicted  Actual\n",
       "0              0       0\n",
       "1              0       1\n",
       "2              0       1\n",
       "3              0       1\n",
       "4              0       1\n",
       "...          ...     ...\n",
       "13297          1       1\n",
       "13298          0       0\n",
       "13299          1       1\n",
       "13300          0       0\n",
       "13301          1       1\n",
       "\n",
       "[13302 rows x 2 columns]"
      ]
     },
     "execution_count": 3,
     "metadata": {},
     "output_type": "execute_result"
    }
   ],
   "source": [
    "KFOLD_confusion_dict[0][0]"
   ]
  },
  {
   "cell_type": "markdown",
   "metadata": {
    "id": "-mmZO866xkpO"
   },
   "source": [
    "# Confusion Matrix & Performance Evaluation"
   ]
  },
  {
   "cell_type": "markdown",
   "metadata": {
    "id": "Hr1FULMPim-o"
   },
   "source": [
    "## Confusion Matrix\n",
    "We use our predictions from each fold and plot the confusion matrix."
   ]
  },
  {
   "cell_type": "code",
   "execution_count": null,
   "metadata": {
    "colab": {
     "base_uri": "https://localhost:8080/",
     "height": 1000
    },
    "id": "I8gpv_3RZ6NM",
    "outputId": "9cb30212-239d-47b7-ffb4-8489f92f8f1a"
   },
   "outputs": [
    {
     "data": {
      "image/png": "[encoded data removed]",
      "text/plain": [
       "<Figure size 1008x864 with 1 Axes>"
      ]
     },
     "metadata": {
      "needs_background": "light"
     },
     "output_type": "display_data"
    },
    {
     "data": {
      "image/png": "[encoded data removed]",
      "text/plain": [
       "<Figure size 1008x864 with 1 Axes>"
      ]
     },
     "metadata": {
      "needs_background": "light"
     },
     "output_type": "display_data"
    },
    {
     "data": {
      "image/png": "[encoded data removed]",
      "text/plain": [
       "<Figure size 1008x864 with 1 Axes>"
      ]
     },
     "metadata": {
      "needs_background": "light"
     },
     "output_type": "display_data"
    },
    {
     "data": {
      "image/png": "[encoded data removed]",
      "text/plain": [
       "<Figure size 1008x864 with 1 Axes>"
      ]
     },
     "metadata": {
      "needs_background": "light"
     },
     "output_type": "display_data"
    },
    {
     "data": {
      "image/png": "[encoded data removed]",
      "text/plain": [
       "<Figure size 1008x864 with 1 Axes>"
      ]
     },
     "metadata": {
      "needs_background": "light"
     },
     "output_type": "display_data"
    },
    {
     "data": {
      "image/png": "[encoded data removed]",
      "text/plain": [
       "<Figure size 1008x864 with 1 Axes>"
      ]
     },
     "metadata": {
      "needs_background": "light"
     },
     "output_type": "display_data"
    },
    {
     "data": {
      "image/png": "[encoded data removed]",
      "text/plain": [
       "<Figure size 1008x864 with 1 Axes>"
      ]
     },
     "metadata": {
      "needs_background": "light"
     },
     "output_type": "display_data"
    },
    {
     "data": {
      "image/png": "[encoded data removed]",
      "text/plain": [
       "<Figure size 1008x864 with 1 Axes>"
      ]
     },
     "metadata": {
      "needs_background": "light"
     },
     "output_type": "display_data"
    },
    {
     "data": {
      "image/png": "[encoded data removed]",
      "text/plain": [
       "<Figure size 1008x864 with 1 Axes>"
      ]
     },
     "metadata": {
      "needs_background": "light"
     },
     "output_type": "display_data"
    },
    {
     "data": {
      "image/png": "[encoded data removed]",
      "text/plain": [
       "<Figure size 1008x864 with 1 Axes>"
      ]
     },
     "metadata": {
      "needs_background": "light"
     },
     "output_type": "display_data"
    }
   ],
   "source": [
    "from sklearn.metrics import confusion_matrix\n",
    "for fold, confusion_dict in  KFOLD_confusion_dict.items():\n",
    "  for key, val in confusion_dict.items():\n",
    "    cm = confusion_matrix(val['Predicted'], val[\"Actual\"])\n",
    "    fig, ax = plt.subplots(figsize=(14,12))         # Sample figsize in inches\n",
    "    plt.imshow(cm,interpolation='none',cmap='Blues')\n",
    "    for (i, j), z in np.ndenumerate(cm):\n",
    "        plt.text(j, i, z, ha='center', va='center')\n",
    "    plt.xlabel(\"Predicted label\")\n",
    "    plt.ylabel(\"Actual label\")\n",
    "    plt.xticks([0,1])\n",
    "    plt.yticks([0,1])\n",
    "    plt.title(f\"Fold: {fold} Epoch: {key}\")\n",
    "plt.show()"
   ]
  },
  {
   "cell_type": "markdown",
   "metadata": {
    "id": "A5rzELcltZjl"
   },
   "source": [
    "## Evaluating Classifier Performance\n",
    "![title](Classifier.png)"
   ]
  },
  {
   "cell_type": "code",
   "execution_count": null,
   "metadata": {
    "id": "HwHqy6XhBzhW"
   },
   "outputs": [],
   "source": [
    "def all_conf_matrix():\n",
    "  matrix_fold = {}\n",
    "  for fold, confusion_dict in  KFOLD_confusion_dict.items():\n",
    "    all_matrix = {}\n",
    "    for epoch, value in confusion_dict.items():  \n",
    "      # print(f\"\\nFor fold {fold} & For epoch {epoch}\")\n",
    "      \n",
    "      p = int(value[(value[\"Actual\"] == 1)]['Actual'].count())\n",
    "      n = int(value[(value[\"Actual\"] == 0)]['Actual'].count())\n",
    "\n",
    "      tp = int(value[(value[\"Predicted\"] == 1) & (value[\"Actual\"] == 1)]['Predicted'].count())\n",
    "      tn = int(value[(value[\"Predicted\"] != 1) & (value[\"Actual\"] != 1)]['Predicted'].count())\n",
    "      fp = int(value[(value[\"Predicted\"] == 1) & (value[\"Actual\"] != 1)]['Predicted'].count())\n",
    "      fn = int(value[(value[\"Predicted\"] != 1) & (value[\"Actual\"] == 1)]['Predicted'].count())\n",
    "\n",
    "      tpr = round(tp/(tp + fn), 2)\n",
    "      tnr = round(tn/(tn + fp), 2)\n",
    "      fpr = round(fp/(tn + fp), 2)\n",
    "      fnr = round(fn/(tp + fn), 2)\n",
    "\n",
    "      recall = round(tp/p, 2)\n",
    "      precision = round(tp/(tp+fp), 2)\n",
    "      f1_score = round((2 * recall * precision)/(recall + precision), 2)\n",
    "      acc = round((tp + tn)/(p + n), 2)\n",
    "      err_rate = round((fp + fn)/(p + n), 2)\n",
    "    \n",
    "      headings = [\"Positives\", \"Negatives\",\n",
    "                  \"True Positives\", \"True Negatives\", \"False Positives\", \"False Negatives\",\n",
    "                  \"True Positive Rate\", \"True Negative Rate\", \"False Positive Rate\", \"False Negative Rate\",\n",
    "                  \"Recall or Sensitivity\", \"Precision\", \"F1 Score\", \"Accuracy\", \"Error Rate\"\n",
    "                  ]\n",
    "      values = [p, n, tp, tn, fp, fn, tpr, tnr, fpr, fnr, recall, precision, f1_score, acc, err_rate]\n",
    "      matrix = pd.DataFrame(values, columns = [f\"Fold {fold}\"], index=headings)\n",
    "\n",
    "      all_matrix[epoch] = matrix\n",
    "    matrix_fold[fold] = all_matrix\n",
    "  return matrix_fold"
   ]
  },
  {
   "cell_type": "code",
   "execution_count": null,
   "metadata": {
    "id": "UWdDHQwtEbAk"
   },
   "outputs": [],
   "source": [
    "all_matrices = all_conf_matrix()\n",
    "final_matrix = pd.DataFrame()\n",
    "for fold, matrix in all_matrices.items():\n",
    "  for epoch, pd_matrix in matrix.items():\n",
    "    # print(f\"\\nConfusion Matrix for fold: {fold} epoch: {epoch}\\n\")\n",
    "    # print(f\"{pd_matrix}\")\n",
    "    final_matrix = pd.concat([final_matrix, pd_matrix], axis = 1)\n",
    "\n",
    "final_matrix[\"Average\"] = final_matrix.mean(axis=1)"
   ]
  },
  {
   "cell_type": "markdown",
   "metadata": {
    "id": "DoOKwCTFuRV9"
   },
   "source": [
    "## Display Evaluating Classifier Performance"
   ]
  },
  {
   "cell_type": "code",
   "execution_count": null,
   "metadata": {
    "colab": {
     "base_uri": "https://localhost:8080/",
     "height": 520
    },
    "id": "MsMVa-nmO1d0",
    "outputId": "9373b774-0c6e-429c-beb4-481a2b51643c",
    "scrolled": true
   },
   "outputs": [
    {
     "data": {
      "text/html": [
       "<div>\n",
       "<style scoped>\n",
       "    .dataframe tbody tr th:only-of-type {\n",
       "        vertical-align: middle;\n",
       "    }\n",
       "\n",
       "    .dataframe tbody tr th {\n",
       "        vertical-align: top;\n",
       "    }\n",
       "\n",
       "    .dataframe thead th {\n",
       "        text-align: right;\n",
       "    }\n",
       "</style>\n",
       "<table border=\"1\" class=\"dataframe\">\n",
       "  <thead>\n",
       "    <tr style=\"text-align: right;\">\n",
       "      <th></th>\n",
       "      <th>Fold 0</th>\n",
       "      <th>Fold 1</th>\n",
       "      <th>Fold 2</th>\n",
       "      <th>Fold 3</th>\n",
       "      <th>Fold 4</th>\n",
       "      <th>Fold 5</th>\n",
       "      <th>Fold 6</th>\n",
       "      <th>Fold 7</th>\n",
       "      <th>Fold 8</th>\n",
       "      <th>Fold 9</th>\n",
       "      <th>Average</th>\n",
       "    </tr>\n",
       "  </thead>\n",
       "  <tbody>\n",
       "    <tr>\n",
       "      <th>Positives</th>\n",
       "      <td>7108.00</td>\n",
       "      <td>7056.00</td>\n",
       "      <td>7081.00</td>\n",
       "      <td>7084.00</td>\n",
       "      <td>7101.00</td>\n",
       "      <td>7115.00</td>\n",
       "      <td>7068.00</td>\n",
       "      <td>7107.00</td>\n",
       "      <td>7093.00</td>\n",
       "      <td>7080.00</td>\n",
       "      <td>7089.300</td>\n",
       "    </tr>\n",
       "    <tr>\n",
       "      <th>Negatives</th>\n",
       "      <td>6194.00</td>\n",
       "      <td>6246.00</td>\n",
       "      <td>6221.00</td>\n",
       "      <td>6218.00</td>\n",
       "      <td>6201.00</td>\n",
       "      <td>6187.00</td>\n",
       "      <td>6234.00</td>\n",
       "      <td>6195.00</td>\n",
       "      <td>6209.00</td>\n",
       "      <td>6222.00</td>\n",
       "      <td>6212.700</td>\n",
       "    </tr>\n",
       "    <tr>\n",
       "      <th>True Positives</th>\n",
       "      <td>7040.00</td>\n",
       "      <td>6936.00</td>\n",
       "      <td>7027.00</td>\n",
       "      <td>7001.00</td>\n",
       "      <td>7029.00</td>\n",
       "      <td>7026.00</td>\n",
       "      <td>7011.00</td>\n",
       "      <td>7055.00</td>\n",
       "      <td>7028.00</td>\n",
       "      <td>7027.00</td>\n",
       "      <td>7018.000</td>\n",
       "    </tr>\n",
       "    <tr>\n",
       "      <th>True Negatives</th>\n",
       "      <td>5978.00</td>\n",
       "      <td>6007.00</td>\n",
       "      <td>6012.00</td>\n",
       "      <td>5955.00</td>\n",
       "      <td>5958.00</td>\n",
       "      <td>5943.00</td>\n",
       "      <td>6023.00</td>\n",
       "      <td>5947.00</td>\n",
       "      <td>5986.00</td>\n",
       "      <td>6009.00</td>\n",
       "      <td>5981.800</td>\n",
       "    </tr>\n",
       "    <tr>\n",
       "      <th>False Positives</th>\n",
       "      <td>216.00</td>\n",
       "      <td>239.00</td>\n",
       "      <td>209.00</td>\n",
       "      <td>263.00</td>\n",
       "      <td>243.00</td>\n",
       "      <td>244.00</td>\n",
       "      <td>211.00</td>\n",
       "      <td>248.00</td>\n",
       "      <td>223.00</td>\n",
       "      <td>213.00</td>\n",
       "      <td>230.900</td>\n",
       "    </tr>\n",
       "    <tr>\n",
       "      <th>False Negatives</th>\n",
       "      <td>68.00</td>\n",
       "      <td>120.00</td>\n",
       "      <td>54.00</td>\n",
       "      <td>83.00</td>\n",
       "      <td>72.00</td>\n",
       "      <td>89.00</td>\n",
       "      <td>57.00</td>\n",
       "      <td>52.00</td>\n",
       "      <td>65.00</td>\n",
       "      <td>53.00</td>\n",
       "      <td>71.300</td>\n",
       "    </tr>\n",
       "    <tr>\n",
       "      <th>True Positive Rate</th>\n",
       "      <td>0.99</td>\n",
       "      <td>0.98</td>\n",
       "      <td>0.99</td>\n",
       "      <td>0.99</td>\n",
       "      <td>0.99</td>\n",
       "      <td>0.99</td>\n",
       "      <td>0.99</td>\n",
       "      <td>0.99</td>\n",
       "      <td>0.99</td>\n",
       "      <td>0.99</td>\n",
       "      <td>0.989</td>\n",
       "    </tr>\n",
       "    <tr>\n",
       "      <th>True Negative Rate</th>\n",
       "      <td>0.97</td>\n",
       "      <td>0.96</td>\n",
       "      <td>0.97</td>\n",
       "      <td>0.96</td>\n",
       "      <td>0.96</td>\n",
       "      <td>0.96</td>\n",
       "      <td>0.97</td>\n",
       "      <td>0.96</td>\n",
       "      <td>0.96</td>\n",
       "      <td>0.97</td>\n",
       "      <td>0.964</td>\n",
       "    </tr>\n",
       "    <tr>\n",
       "      <th>False Positive Rate</th>\n",
       "      <td>0.03</td>\n",
       "      <td>0.04</td>\n",
       "      <td>0.03</td>\n",
       "      <td>0.04</td>\n",
       "      <td>0.04</td>\n",
       "      <td>0.04</td>\n",
       "      <td>0.03</td>\n",
       "      <td>0.04</td>\n",
       "      <td>0.04</td>\n",
       "      <td>0.03</td>\n",
       "      <td>0.036</td>\n",
       "    </tr>\n",
       "    <tr>\n",
       "      <th>False Negative Rate</th>\n",
       "      <td>0.01</td>\n",
       "      <td>0.02</td>\n",
       "      <td>0.01</td>\n",
       "      <td>0.01</td>\n",
       "      <td>0.01</td>\n",
       "      <td>0.01</td>\n",
       "      <td>0.01</td>\n",
       "      <td>0.01</td>\n",
       "      <td>0.01</td>\n",
       "      <td>0.01</td>\n",
       "      <td>0.011</td>\n",
       "    </tr>\n",
       "    <tr>\n",
       "      <th>Recall or Sensitivity</th>\n",
       "      <td>0.99</td>\n",
       "      <td>0.98</td>\n",
       "      <td>0.99</td>\n",
       "      <td>0.99</td>\n",
       "      <td>0.99</td>\n",
       "      <td>0.99</td>\n",
       "      <td>0.99</td>\n",
       "      <td>0.99</td>\n",
       "      <td>0.99</td>\n",
       "      <td>0.99</td>\n",
       "      <td>0.989</td>\n",
       "    </tr>\n",
       "    <tr>\n",
       "      <th>Precision</th>\n",
       "      <td>0.97</td>\n",
       "      <td>0.97</td>\n",
       "      <td>0.97</td>\n",
       "      <td>0.96</td>\n",
       "      <td>0.97</td>\n",
       "      <td>0.97</td>\n",
       "      <td>0.97</td>\n",
       "      <td>0.97</td>\n",
       "      <td>0.97</td>\n",
       "      <td>0.97</td>\n",
       "      <td>0.969</td>\n",
       "    </tr>\n",
       "    <tr>\n",
       "      <th>F1 Score</th>\n",
       "      <td>0.98</td>\n",
       "      <td>0.97</td>\n",
       "      <td>0.98</td>\n",
       "      <td>0.97</td>\n",
       "      <td>0.98</td>\n",
       "      <td>0.98</td>\n",
       "      <td>0.98</td>\n",
       "      <td>0.98</td>\n",
       "      <td>0.98</td>\n",
       "      <td>0.98</td>\n",
       "      <td>0.978</td>\n",
       "    </tr>\n",
       "    <tr>\n",
       "      <th>Accuracy</th>\n",
       "      <td>0.98</td>\n",
       "      <td>0.97</td>\n",
       "      <td>0.98</td>\n",
       "      <td>0.97</td>\n",
       "      <td>0.98</td>\n",
       "      <td>0.97</td>\n",
       "      <td>0.98</td>\n",
       "      <td>0.98</td>\n",
       "      <td>0.98</td>\n",
       "      <td>0.98</td>\n",
       "      <td>0.977</td>\n",
       "    </tr>\n",
       "    <tr>\n",
       "      <th>Error Rate</th>\n",
       "      <td>0.02</td>\n",
       "      <td>0.03</td>\n",
       "      <td>0.02</td>\n",
       "      <td>0.03</td>\n",
       "      <td>0.02</td>\n",
       "      <td>0.03</td>\n",
       "      <td>0.02</td>\n",
       "      <td>0.02</td>\n",
       "      <td>0.02</td>\n",
       "      <td>0.02</td>\n",
       "      <td>0.023</td>\n",
       "    </tr>\n",
       "  </tbody>\n",
       "</table>\n",
       "</div>"
      ],
      "text/plain": [
       "                        Fold 0   Fold 1   Fold 2  ...   Fold 8   Fold 9   Average\n",
       "Positives              7108.00  7056.00  7081.00  ...  7093.00  7080.00  7089.300\n",
       "Negatives              6194.00  6246.00  6221.00  ...  6209.00  6222.00  6212.700\n",
       "True Positives         7040.00  6936.00  7027.00  ...  7028.00  7027.00  7018.000\n",
       "True Negatives         5978.00  6007.00  6012.00  ...  5986.00  6009.00  5981.800\n",
       "False Positives         216.00   239.00   209.00  ...   223.00   213.00   230.900\n",
       "False Negatives          68.00   120.00    54.00  ...    65.00    53.00    71.300\n",
       "True Positive Rate        0.99     0.98     0.99  ...     0.99     0.99     0.989\n",
       "True Negative Rate        0.97     0.96     0.97  ...     0.96     0.97     0.964\n",
       "False Positive Rate       0.03     0.04     0.03  ...     0.04     0.03     0.036\n",
       "False Negative Rate       0.01     0.02     0.01  ...     0.01     0.01     0.011\n",
       "Recall or Sensitivity     0.99     0.98     0.99  ...     0.99     0.99     0.989\n",
       "Precision                 0.97     0.97     0.97  ...     0.97     0.97     0.969\n",
       "F1 Score                  0.98     0.97     0.98  ...     0.98     0.98     0.978\n",
       "Accuracy                  0.98     0.97     0.98  ...     0.98     0.98     0.977\n",
       "Error Rate                0.02     0.03     0.02  ...     0.02     0.02     0.023\n",
       "\n",
       "[15 rows x 11 columns]"
      ]
     },
     "execution_count": 14,
     "metadata": {},
     "output_type": "execute_result"
    }
   ],
   "source": [
    "final_matrix"
   ]
  },
  {
   "cell_type": "markdown",
   "metadata": {},
   "source": [
    "![title](final_matrix.png)"
   ]
  },
  {
   "cell_type": "code",
   "execution_count": null,
   "metadata": {},
   "outputs": [],
   "source": []
  }
 ],
 "metadata": {
  "accelerator": "GPU",
  "colab": {
   "collapsed_sections": [],
   "name": "FinalProject_RNN.ipynb",
   "provenance": []
  },
  "kernelspec": {
   "display_name": "Python 3",
   "language": "python",
   "name": "python3"
  },
  "language_info": {
   "codemirror_mode": {
    "name": "ipython",
    "version": 3
   },
   "file_extension": ".py",
   "mimetype": "text/x-python",
   "name": "python",
   "nbconvert_exporter": "python",
   "pygments_lexer": "ipython3",
   "version": "3.8.5"
  }
 },
 "nbformat": 4,
 "nbformat_minor": 1
}
